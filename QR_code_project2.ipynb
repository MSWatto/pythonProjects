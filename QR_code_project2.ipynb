{
 "cells": [
  {
   "cell_type": "code",
   "execution_count": 1,
   "id": "3f131319-b3da-49d6-892e-a4196caa93b9",
   "metadata": {
    "tags": []
   },
   "outputs": [],
   "source": [
    "import qrcode as qr\n",
    "img=qr.make(\"https://github.com/MSWatto/pythonProjects\")\n",
    "img.save(\"My_GitHub_Projects.png\")"
   ]
  },
  {
   "cell_type": "code",
   "execution_count": null,
   "id": "afc387df-3b01-4c88-9197-16ac65747926",
   "metadata": {},
   "outputs": [],
   "source": []
  }
 ],
 "metadata": {
  "kernelspec": {
   "display_name": "Python 3 (ipykernel)",
   "language": "python",
   "name": "python3"
  },
  "language_info": {
   "codemirror_mode": {
    "name": "ipython",
    "version": 3
   },
   "file_extension": ".py",
   "mimetype": "text/x-python",
   "name": "python",
   "nbconvert_exporter": "python",
   "pygments_lexer": "ipython3",
   "version": "3.11.4"
  }
 },
 "nbformat": 4,
 "nbformat_minor": 5
}
