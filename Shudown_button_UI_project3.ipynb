{
 "cells": [
  {
   "cell_type": "code",
   "execution_count": 25,
   "id": "8eebedea-4c84-4eee-92a2-166072f1203a",
   "metadata": {
    "tags": []
   },
   "outputs": [],
   "source": [
    "from tkinter import *\n",
    "import os\n",
    "def shutdown():\n",
    "    os.system('shutdown /s /t 1')\n",
    "def restart():\n",
    "    os.system('shutdown /r /t 1')\n",
    "def logout():\n",
    "    os.system('shutdown -l')\n",
    "st=Tk()\n",
    "st.title('Shudown App')\n",
    "st.geometry('500x500')\n",
    "st.config(bg='blue')\n",
    "\n",
    "s_button=Button(st, text='Shutdown', font=('Time New Roman',10,'bold'), command=shutdown)\n",
    "s_button.place(x=200,y=100,height=50,width=100)\n",
    "\n",
    "s_button=Button(st, text='Restart', font=('Time New Roman',10,'bold') command=restart)\n",
    "s_button.place(x=200,y=170,height=50,width=100)\n",
    "\n",
    "s_button=Button(st, text='Logout', font=('Time New Roman',10,'bold') command=logout)\n",
    "s_button.place(x=200,y=240,height=50,width=100)\n",
    "\n",
    "st.mainloop()"
   ]
  },
  {
   "cell_type": "code",
   "execution_count": null,
   "id": "46194e51-2719-4565-a59e-74c36210e7e2",
   "metadata": {},
   "outputs": [],
   "source": []
  }
 ],
 "metadata": {
  "kernelspec": {
   "display_name": "Python 3 (ipykernel)",
   "language": "python",
   "name": "python3"
  },
  "language_info": {
   "codemirror_mode": {
    "name": "ipython",
    "version": 3
   },
   "file_extension": ".py",
   "mimetype": "text/x-python",
   "name": "python",
   "nbconvert_exporter": "python",
   "pygments_lexer": "ipython3",
   "version": "3.11.4"
  }
 },
 "nbformat": 4,
 "nbformat_minor": 5
}
