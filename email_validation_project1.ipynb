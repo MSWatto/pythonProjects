{
 "cells": [
  {
   "cell_type": "code",
   "execution_count": 18,
   "id": "e31cd87f-d501-43bc-a16c-d0dae3ec67cd",
   "metadata": {
    "tags": []
   },
   "outputs": [
    {
     "name": "stdin",
     "output_type": "stream",
     "text": [
      "Enter you Email:  muhammad@gmail.c\n"
     ]
    },
    {
     "name": "stdout",
     "output_type": "stream",
     "text": [
      "Wrong Email Step 4\n"
     ]
    }
   ],
   "source": [
    "email=input('Enter you Email: ')#g@g.in or 4@gmail.com\n",
    "k,j,d=0,0,0\n",
    "if len(email)>=6:\n",
    "    if email[0].isalpha():\n",
    "        if ('@' in email) and (email.count('@')==1):\n",
    "            if (email[-3]=='.') ^ (email[-4]=='.'):\n",
    "                for i in email:\n",
    "                    if i == i.isspace():\n",
    "                        k=1\n",
    "                    elif i.isalpha():\n",
    "                        if i==i.upper():\n",
    "                            j=1\n",
    "                    elif i.isdigit():\n",
    "                        continue\n",
    "                    elif i=='_' or i=='.' or i=='@':\n",
    "                        continue\n",
    "                    else:\n",
    "                        d==1\n",
    "                if k==1 or j==1 or d==1:\n",
    "                    print('Wrong Email step 5')\n",
    "                else:\n",
    "                    print('Correct EMAIL')\n",
    "            else:\n",
    "                print('Wrong Email Step 4')\n",
    "        else:\n",
    "            print('Wrong Email Step 3')\n",
    "    else:\n",
    "        print('Wrong Email Step 2')\n",
    "else:\n",
    "    print('Wrong Email Step 1')"
   ]
  },
  {
   "cell_type": "code",
   "execution_count": null,
   "id": "7b88fc7f-8fd2-45bf-a290-7281f29c37f9",
   "metadata": {},
   "outputs": [],
   "source": []
  }
 ],
 "metadata": {
  "kernelspec": {
   "display_name": "Python 3 (ipykernel)",
   "language": "python",
   "name": "python3"
  },
  "language_info": {
   "codemirror_mode": {
    "name": "ipython",
    "version": 3
   },
   "file_extension": ".py",
   "mimetype": "text/x-python",
   "name": "python",
   "nbconvert_exporter": "python",
   "pygments_lexer": "ipython3",
   "version": "3.11.4"
  }
 },
 "nbformat": 4,
 "nbformat_minor": 5
}
